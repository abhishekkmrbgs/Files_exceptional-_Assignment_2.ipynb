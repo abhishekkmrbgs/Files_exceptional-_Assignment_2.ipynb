{
  "nbformat": 4,
  "nbformat_minor": 0,
  "metadata": {
    "colab": {
      "provenance": []
    },
    "kernelspec": {
      "name": "python3",
      "display_name": "Python 3"
    },
    "language_info": {
      "name": "python"
    }
  },
  "cells": [
    {
      "cell_type": "markdown",
      "source": [
        "1. F How can you open a file for writing in Python and write a string to it?"
      ],
      "metadata": {
        "id": "NU-Xs8C2uLhd"
      }
    },
    {
      "cell_type": "code",
      "source": [
        "# Open the file in write mode\n",
        "with open(\"example.txt\", \"w\") as file:\n",
        "    # Write a string to the file\n",
        "    file.write(\"Hello, world!\")\n",
        "\n",
        "# The file is automatically closed after the 'with' block\n"
      ],
      "metadata": {
        "id": "UW7bBjjTukmC"
      },
      "execution_count": null,
      "outputs": []
    },
    {
      "cell_type": "code",
      "source": [
        "# Open the file in write mode\n",
        "with open(\"example.txt\", \"w\") as file:\n",
        "    # Write a string to the file\n",
        "    file.write(\"Hello, world!\")\n",
        "\n",
        "print(\"File written successfully!\")\n"
      ],
      "metadata": {
        "colab": {
          "base_uri": "https://localhost:8080/"
        },
        "id": "CPRDPiOlvR54",
        "outputId": "3946ec33-5b24-4854-8c1e-f5e884ab4abb"
      },
      "execution_count": null,
      "outputs": [
        {
          "output_type": "stream",
          "name": "stdout",
          "text": [
            "File written successfully!\n"
          ]
        }
      ]
    },
    {
      "cell_type": "markdown",
      "source": [
        "2. Write a Python program to read the contents of a file and print each line."
      ],
      "metadata": {
        "id": "mhiWBLWYwJwc"
      }
    },
    {
      "cell_type": "code",
      "source": [
        "# Python program to read a file and print each line\n",
        "\n",
        "# Specify the file name\n",
        "file_name = 'example.txt'\n",
        "\n",
        "try:\n",
        "    # Open the file in read mode\n",
        "    with open(file_name, 'r') as file:\n",
        "        # Iterate through each line in the file\n",
        "        for line_number, line in enumerate(file, start=1):\n",
        "            # Print the line number and content\n",
        "            print(f\"Line {line_number}: {line.strip()}\")\n",
        "except FileNotFoundError:\n",
        "    print(f\"The file '{file_name}' was not found.\")\n",
        "except Exception as e:\n",
        "    print(f\"An error occurred: {e}\")\n"
      ],
      "metadata": {
        "colab": {
          "base_uri": "https://localhost:8080/"
        },
        "id": "FUJnYx0evfCR",
        "outputId": "71fba2ba-6060-444f-848f-397cd99641aa"
      },
      "execution_count": null,
      "outputs": [
        {
          "output_type": "stream",
          "name": "stdout",
          "text": [
            "Line 1: Hello, world!\n"
          ]
        }
      ]
    },
    {
      "cell_type": "markdown",
      "source": [
        "3.  How would you handle a case where the file doesn't exist while trying to open it for reading ?"
      ],
      "metadata": {
        "id": "KghKz0AFww7k"
      }
    },
    {
      "cell_type": "code",
      "source": [
        "filename = \"example.txt\"\n",
        "\n",
        "try:\n",
        "    with open(filename, \"r\") as file:\n",
        "        content = file.read()\n",
        "        print(content)\n",
        "except FileNotFoundError:\n",
        "    print(f\"Error: The file '{filename}' does not exist.\")\n"
      ],
      "metadata": {
        "colab": {
          "base_uri": "https://localhost:8080/"
        },
        "id": "KYh9YFsSwWZ1",
        "outputId": "e21fcd5d-530e-4834-ce63-c64a5f6dc2d4"
      },
      "execution_count": null,
      "outputs": [
        {
          "output_type": "stream",
          "name": "stdout",
          "text": [
            "Hello, world!\n"
          ]
        }
      ]
    },
    {
      "cell_type": "markdown",
      "source": [
        "4.  Write a Python script that reads from one file and writes its content to another file."
      ],
      "metadata": {
        "id": "H0AE2UVQxLma"
      }
    },
    {
      "cell_type": "code",
      "source": [
        "# Function to read content from a source file and write it to a destination file\n",
        "def copy_file_content(source_file, destination_file):\n",
        "    try:\n",
        "        # Open the source file in read mode and destination file in write mode\n",
        "        with open(source_file, 'r') as src, open(destination_file, 'w') as dest:\n",
        "            # Read the content from the source file\n",
        "            content = src.read()\n",
        "            # Write the content to the destination file\n",
        "            dest.write(content)\n",
        "        print(f\"Content successfully copied from {source_file} to {destination_file}.\")\n",
        "    except FileNotFoundError:\n",
        "        print(f\"Error: The file '{source_file}' does not exist.\")\n",
        "    except IOError as e:\n",
        "        print(f\"An IOError occurred: {e}\")\n",
        "\n",
        "# Example usage\n",
        "if __name__ == \"__main__\":\n",
        "    source_file = \"source.txt\"  # Replace with the path to your source file\n",
        "    destination_file = \"destination.txt\"  # Replace with the path to your destination file\n",
        "    copy_file_content(source_file, destination_file)\n"
      ],
      "metadata": {
        "colab": {
          "base_uri": "https://localhost:8080/"
        },
        "id": "NL7UZCHRxJll",
        "outputId": "c80a4eec-fb27-4b78-a29b-75f8eccef157"
      },
      "execution_count": null,
      "outputs": [
        {
          "output_type": "stream",
          "name": "stdout",
          "text": [
            "Error: The file 'source.txt' does not exist.\n"
          ]
        }
      ]
    },
    {
      "cell_type": "markdown",
      "source": [
        "5. How would you catch and handle division by zero error in Python?"
      ],
      "metadata": {
        "id": "aL_ehfOXyJHl"
      }
    },
    {
      "cell_type": "code",
      "source": [
        "try:\n",
        "    numerator = 10\n",
        "    denominator = 0\n",
        "    result = numerator / denominator  # This will raise ZeroDivisionError\n",
        "except ZeroDivisionError:\n",
        "    print(\"Error: Division by zero is not allowed.\")\n",
        "else:\n",
        "    print(f\"The result is {result}\")\n",
        "finally:\n",
        "    print(\"Execution complete.\")\n"
      ],
      "metadata": {
        "colab": {
          "base_uri": "https://localhost:8080/"
        },
        "id": "RjpZOP8Gxy8T",
        "outputId": "88f7ae4b-c41f-48c8-8f70-090451bfd43b"
      },
      "execution_count": null,
      "outputs": [
        {
          "output_type": "stream",
          "name": "stdout",
          "text": [
            "Error: Division by zero is not allowed.\n",
            "Execution complete.\n"
          ]
        }
      ]
    },
    {
      "cell_type": "markdown",
      "source": [
        "6. Write a Python program that logs an error message to a log file when a division by zero exception occurs."
      ],
      "metadata": {
        "id": "yYN5fRNayX9S"
      }
    },
    {
      "cell_type": "code",
      "source": [
        "import logging\n",
        "\n",
        "# Set up logging configuration\n",
        "logging.basicConfig(filename='error_log.txt',\n",
        "                    level=logging.ERROR,\n",
        "                    format='%(asctime)s - %(levelname)s - %(message)s')\n",
        "\n",
        "def divide(a, b):\n",
        "    try:\n",
        "        result = a / b\n",
        "        return result\n",
        "    except ZeroDivisionError as e:\n",
        "        logging.error(f\"Error: Division by zero when dividing {a} by {b}\")\n",
        "        return \"Error: Division by zero\"\n",
        "\n",
        "# Example usage\n",
        "num1 = 10\n",
        "num2 = 0\n",
        "print(divide(num1, num2))\n"
      ],
      "metadata": {
        "colab": {
          "base_uri": "https://localhost:8080/"
        },
        "id": "I53YRxO1yT3n",
        "outputId": "049a9402-5a41-4f1a-e287-5c58e6d89b73"
      },
      "execution_count": null,
      "outputs": [
        {
          "output_type": "stream",
          "name": "stderr",
          "text": [
            "ERROR:root:Error: Division by zero when dividing 10 by 0\n"
          ]
        },
        {
          "output_type": "stream",
          "name": "stdout",
          "text": [
            "Error: Division by zero\n"
          ]
        }
      ]
    },
    {
      "cell_type": "markdown",
      "source": [
        "7. How do you log information at different levels (INFO, ERROR, WARNING) in Python using the logging module?\n",
        "\n",
        "\n",
        "\n",
        "\n",
        "    In Python, the logging module provides a flexible framework for logging messages at different severity levels, such as INFO, ERROR, and WARNING.\n",
        "    \n",
        "    Here's a simple example of how to use the logging module to log information at different levels:\n",
        "\n",
        "Steps to use logging at different levels:\n",
        "\n",
        "    Import the logging module.\n",
        "\n",
        "    Configure the logging settings (e.g., log format, log level).\n",
        "    \n",
        "    Log messages at different levels (INFO, ERROR, WARNING, etc.)."
      ],
      "metadata": {
        "id": "eakCPHAjyvhV"
      }
    },
    {
      "cell_type": "code",
      "source": [
        "import logging\n",
        "\n",
        "# Configure logging\n",
        "logging.basicConfig(level=logging.DEBUG,  # Minimum level to log\n",
        "                    format='%(asctime)s - %(levelname)s - %(message)s')\n",
        "\n",
        "# Logging messages at different levels\n",
        "logging.debug(\"This is a debug message.\")\n",
        "logging.info(\"This is an info message.\")\n",
        "logging.warning(\"This is a warning message.\")\n",
        "logging.error(\"This is an error message.\")\n",
        "logging.critical(\"This is a critical message.\")\n"
      ],
      "metadata": {
        "colab": {
          "base_uri": "https://localhost:8080/"
        },
        "id": "YnAf9CjTyjVv",
        "outputId": "ee16c281-63d8-4a15-e4ce-899fb8aba48c"
      },
      "execution_count": null,
      "outputs": [
        {
          "output_type": "stream",
          "name": "stderr",
          "text": [
            "WARNING:root:This is a warning message.\n",
            "ERROR:root:This is an error message.\n",
            "CRITICAL:root:This is a critical message.\n"
          ]
        }
      ]
    },
    {
      "cell_type": "markdown",
      "source": [
        "8. Write a program to handle a file opening error using exception handling."
      ],
      "metadata": {
        "id": "tesOUiivzQV_"
      }
    },
    {
      "cell_type": "code",
      "source": [
        "try:\n",
        "    # Attempt to open a file that may not exist or may not be accessible\n",
        "    file = open('non_existent_file.txt', 'r')\n",
        "    content = file.read()\n",
        "    print(content)\n",
        "except FileNotFoundError:\n",
        "    print(\"Error: The file does not exist.\")\n",
        "except PermissionError:\n",
        "    print(\"Error: You do not have permission to access this file.\")\n",
        "except Exception as e:\n",
        "    print(f\"An unexpected error occurred: {e}\")\n",
        "finally:\n",
        "    # Ensure that the file is closed, if it was opened successfully\n",
        "    try:\n",
        "        file.close()\n",
        "    except NameError:\n",
        "        pass  # This handles the case where the file was never opened\n"
      ],
      "metadata": {
        "colab": {
          "base_uri": "https://localhost:8080/"
        },
        "id": "yPJdI0kZzExn",
        "outputId": "d245b669-e7cc-4e70-92d3-92c3f7d070bc"
      },
      "execution_count": null,
      "outputs": [
        {
          "output_type": "stream",
          "name": "stdout",
          "text": [
            "Error: The file does not exist.\n"
          ]
        }
      ]
    },
    {
      "cell_type": "markdown",
      "source": [
        "9. How can you read a file line by line and store its content in a list in Python?\n",
        "\n",
        "\n",
        "\n",
        "    "
      ],
      "metadata": {
        "id": "81gAAHj6zrm6"
      }
    },
    {
      "cell_type": "code",
      "source": [
        "# Open the file in read mode\n",
        "with open('filename.txt', 'r') as file:\n",
        "    lines = file.readlines()\n",
        "\n",
        "# Remove any trailing newlines from each line\n",
        "lines = [line.strip() for line in lines]\n",
        "\n",
        "print(lines)\n",
        "#Assuming the content of filename.txt is:\n",
        "\n",
        "#  Hello, World!\n",
        "#  This is a test.\n",
        "#  Python is awesome."
      ],
      "metadata": {
        "id": "-CyH-m2s2I5k"
      },
      "execution_count": null,
      "outputs": []
    },
    {
      "cell_type": "markdown",
      "source": [
        "10.  How can you append data to an existing file in Python?\n",
        "\n",
        "\n",
        "    To append data to an existing file in Python, you can open the file in append mode using the 'a' mode (or 'a+' if you want to read and append).\n",
        "    \n",
        "    This mode ensures that the new data is added to the end of the file without overwriting the existing content.\n",
        "\n",
        "Here's an example:"
      ],
      "metadata": {
        "id": "R3jt02hz5A8c"
      }
    },
    {
      "cell_type": "code",
      "source": [
        "# Create or open the file in append mode and write data\n",
        "with open('example.txt', 'a') as file:\n",
        "    file.write(\"This is the new data that will be appended.\\n\")\n",
        "\n",
        "# Read and display the contents of the file\n",
        "with open('example.txt', 'r') as file:\n",
        "    content = file.read()\n",
        "    print(\"File content after appending:\")\n",
        "    print(content)\n"
      ],
      "metadata": {
        "id": "a9ZCYtPv5GeL",
        "colab": {
          "base_uri": "https://localhost:8080/"
        },
        "outputId": "b3d995e5-fe21-42f6-f263-6f885b0b5343"
      },
      "execution_count": null,
      "outputs": [
        {
          "output_type": "stream",
          "name": "stdout",
          "text": [
            "File content after appending:\n",
            "Hello, world!This is the new data that will be appended.\n",
            "This is the new data that will be appended.\n",
            "\n"
          ]
        }
      ]
    },
    {
      "cell_type": "markdown",
      "source": [
        "11.  Write a Python program that uses a try-except block to handle an error when attempting to access a\n",
        "dictionary key that doesn't exist?"
      ],
      "metadata": {
        "id": "6NThyOpu6AZ5"
      }
    },
    {
      "cell_type": "code",
      "source": [
        "# Define a sample dictionary\n",
        "my_dict = {'name': 'Alice', 'age': 30}\n",
        "\n",
        "# Attempt to access a non-existent key\n",
        "try:\n",
        "    value = my_dict['city']  # 'city' key does not exist in the dictionary\n",
        "except KeyError:\n",
        "    print(\"KeyError: The key 'city' does not exist in the dictionary.\")\n",
        "else:\n",
        "    print(\"The value of 'city' is:\", value)\n"
      ],
      "metadata": {
        "colab": {
          "base_uri": "https://localhost:8080/"
        },
        "id": "msXTmUfa51EU",
        "outputId": "52ffea1f-137d-457a-80cc-01afa36c2d65"
      },
      "execution_count": null,
      "outputs": [
        {
          "output_type": "stream",
          "name": "stdout",
          "text": [
            "KeyError: The key 'city' does not exist in the dictionary.\n"
          ]
        }
      ]
    },
    {
      "cell_type": "markdown",
      "source": [
        "12. Write a program that demonstrates using multiple except blocks to handle different types of exceptions?"
      ],
      "metadata": {
        "id": "pxSYmGSU5_bX"
      }
    },
    {
      "cell_type": "code",
      "source": [
        "def demo_exceptions():\n",
        "    try:\n",
        "        # Simulate a division by zero error\n",
        "        num = int(input(\"Enter a number: \"))\n",
        "        denom = int(input(\"Enter a denominator: \"))\n",
        "        result = num / denom\n",
        "        print(f\"Result: {result}\")\n",
        "\n",
        "        # Simulate a file handling error\n",
        "        filename = input(\"Enter the name of a file to open: \")\n",
        "        with open(filename, 'r') as file:\n",
        "            content = file.read()\n",
        "            print(content)\n",
        "\n",
        "    except ZeroDivisionError:\n",
        "        print(\"Error: Cannot divide by zero.\")\n",
        "\n",
        "    except FileNotFoundError:\n",
        "        print(\"Error: The specified file was not found.\")\n",
        "\n",
        "    except ValueError:\n",
        "        print(\"Error: Invalid input, please enter an integer.\")\n",
        "\n",
        "    except Exception as e:\n",
        "        print(f\"An unexpected error occurred: {e}\")\n",
        "\n",
        "# Call the function to test\n",
        "demo_exceptions()\n"
      ],
      "metadata": {
        "colab": {
          "base_uri": "https://localhost:8080/"
        },
        "id": "zriG5pI_6SPy",
        "outputId": "c014f9d0-67ac-446b-fb60-0e49feb596fb"
      },
      "execution_count": null,
      "outputs": [
        {
          "output_type": "stream",
          "name": "stdout",
          "text": [
            "Enter a number: 10\n",
            "Enter a denominator: 0\n",
            "Error: Cannot divide by zero.\n"
          ]
        }
      ]
    },
    {
      "cell_type": "markdown",
      "source": [
        "13.  How would you check if a file exists before attempting to read it in Python?\n",
        "\n",
        "\n",
        "    In Python, you can check if a file exists before attempting to read it by using the os.path.exists() or pathlib.Path.exists() methods.\n",
        "    \n",
        "    Here are examples using both approaches:\n",
        "\n",
        "    Using os.path.exists()\n",
        "\n"
      ],
      "metadata": {
        "id": "OReCNlWTRT-t"
      }
    },
    {
      "cell_type": "code",
      "source": [
        "import os\n",
        "\n",
        "file_path = 'example.txt'\n",
        "\n",
        "if os.path.exists(file_path):\n",
        "    with open(file_path, 'r') as file:\n",
        "        content = file.read()\n",
        "        print(content)\n",
        "else:\n",
        "    print(f\"The file {file_path} does not exist.\")\n"
      ],
      "metadata": {
        "id": "9Msw2TlM6d1Z",
        "colab": {
          "base_uri": "https://localhost:8080/"
        },
        "outputId": "c19fb11d-1395-4614-81c4-182c16c8c904"
      },
      "execution_count": null,
      "outputs": [
        {
          "output_type": "stream",
          "name": "stdout",
          "text": [
            "Hello, world!This is the new data that will be appended.\n",
            "This is the new data that will be appended.\n",
            "\n"
          ]
        }
      ]
    },
    {
      "cell_type": "markdown",
      "source": [
        "    Using pathlib.Path.exists()"
      ],
      "metadata": {
        "id": "qtubrDC0TP1w"
      }
    },
    {
      "cell_type": "code",
      "source": [
        "from pathlib import Path\n",
        "\n",
        "file_path = Path('example.txt')\n",
        "\n",
        "if file_path.exists():\n",
        "    with file_path.open('r') as file:\n",
        "        content = file.read()\n",
        "else:\n",
        "    print(f\"The file {file_path} does not exist.\")\n"
      ],
      "metadata": {
        "id": "veUYA3DmSKxv"
      },
      "execution_count": null,
      "outputs": []
    },
    {
      "cell_type": "markdown",
      "source": [
        "14.  Write a program that uses the logging module to log both informational and error messages"
      ],
      "metadata": {
        "id": "xiMSmiAUToKs"
      }
    },
    {
      "cell_type": "code",
      "source": [
        "import logging\n",
        "\n",
        "# Set up logging configuration\n",
        "logging.basicConfig(level=logging.DEBUG,  # Set the logging level to DEBUG to capture all messages\n",
        "                    format='%(asctime)s - %(levelname)s - %(message)s')\n",
        "\n",
        "# Informational message\n",
        "logging.info('This is an informational message.')\n",
        "\n",
        "# Warning message\n",
        "logging.warning('This is a warning message.')\n",
        "\n",
        "# Error message\n",
        "logging.error('This is an error message.')\n",
        "\n",
        "# Debug message (used for diagnostic information)\n",
        "logging.debug('This is a debug message.')\n",
        "\n",
        "# Critical message\n",
        "logging.critical('This is a critical message.')\n"
      ],
      "metadata": {
        "colab": {
          "base_uri": "https://localhost:8080/"
        },
        "id": "1v86oYP7T1TR",
        "outputId": "6060e245-49a8-46d9-8a74-58a4646044fe"
      },
      "execution_count": null,
      "outputs": [
        {
          "output_type": "stream",
          "name": "stderr",
          "text": [
            "WARNING:root:This is a warning message.\n",
            "ERROR:root:This is an error message.\n",
            "CRITICAL:root:This is a critical message.\n"
          ]
        }
      ]
    },
    {
      "cell_type": "markdown",
      "source": [
        "15.  Write a Python program that prints the content of a file and handles the case when the file is empty."
      ],
      "metadata": {
        "id": "Xver4MJQUKyW"
      }
    },
    {
      "cell_type": "code",
      "source": [
        "def print_file_content(file_path):\n",
        "    try:\n",
        "        # Open the file in read mode\n",
        "        with open(file_path, 'r') as file:\n",
        "            content = file.read()\n",
        "\n",
        "            # Check if the file is empty\n",
        "            if not content:\n",
        "                print(\"The file is empty.\")\n",
        "            else:\n",
        "                print(content)\n",
        "\n",
        "    except FileNotFoundError:\n",
        "        print(f\"Error: The file at {file_path} was not found.\")\n",
        "    except Exception as e:\n",
        "        print(f\"An error occurred: {e}\")\n",
        "\n",
        "# Example usage\n",
        "file_path = \"example.txt\"  # Replace with the path to your file\n",
        "print_file_content(file_path)\n"
      ],
      "metadata": {
        "colab": {
          "base_uri": "https://localhost:8080/"
        },
        "id": "6WhLKX_JVSmc",
        "outputId": "e3ff316a-0de8-49df-83e3-528360f2e851"
      },
      "execution_count": 31,
      "outputs": [
        {
          "output_type": "stream",
          "name": "stdout",
          "text": [
            "Hello, world!This is the new data that will be appended.\n",
            "This is the new data that will be appended.\n",
            "\n"
          ]
        }
      ]
    },
    {
      "cell_type": "markdown",
      "source": [
        "16.  Demonstrate how to use memory profiling to check the memory usage of a small program.\n",
        "\n",
        "\n",
        "\n",
        "    To check the memory usage of a small Python program, we can use memory profiling tools like memory_profiler. This module allows you to profile the memory usage of your Python code line-by-line. Here's a step-by-step guide on how to use it:\n",
        "\n",
        "Step 1: Install the memory_profiler library\n",
        "\n",
        "    First, you need to install the memory_profiler package if you haven't already:\n",
        "\n",
        "    pip install memory-profiler\n",
        "\n",
        "Step 2: Create a small Python program\n",
        "\n",
        "    Here’s an example Python script that demonstrates memory profiling. The program contains a function that simulates creating a list and a generator."
      ],
      "metadata": {
        "id": "w--egWDLVbtq"
      }
    },
    {
      "cell_type": "code",
      "source": [
        "from memory_profiler import profile  # Import profile decorator\n",
        "\n",
        "@profile  # Use the profile decorator to monitor memory usage\n",
        "def create_large_list():\n",
        "    my_list = []\n",
        "    for i in range(1000000):  # Create a large list\n",
        "        my_list.append(i)\n",
        "    return my_list\n",
        "\n",
        "if __name__ == \"__main__\":\n",
        "    create_large_list()\n",
        "# Running the Program: After adding the import statement and the decorator, run the program as usual with the following command:\n",
        "\n",
        "(python -m memory_profiler your_script.py)"
      ],
      "metadata": {
        "id": "qoUtcZO1YmbT"
      },
      "execution_count": null,
      "outputs": []
    },
    {
      "cell_type": "markdown",
      "source": [
        "17. Write a Python program to create and write a list of numbers to a file, one number per line."
      ],
      "metadata": {
        "id": "jCjSccE7ZJjM"
      }
    },
    {
      "cell_type": "code",
      "source": [
        "# List of numbers to write to the file\n",
        "numbers = [1, 2, 3, 4, 5, 6, 7, 8, 9, 10]\n",
        "\n",
        "# Open a file in write mode (it will create the file if it doesn't exist)\n",
        "with open('numbers.txt', 'w') as file:\n",
        "    # Iterate over the numbers list and write each number to the file\n",
        "    for number in numbers:\n",
        "        file.write(f\"{number}\\n\")\n",
        "\n",
        "print(\"Numbers have been written to 'numbers.txt'.\")\n"
      ],
      "metadata": {
        "colab": {
          "base_uri": "https://localhost:8080/"
        },
        "id": "E97_GgeLZVKJ",
        "outputId": "912f0aba-d05c-4ac4-f6f3-20bb80ec1465"
      },
      "execution_count": 39,
      "outputs": [
        {
          "output_type": "stream",
          "name": "stdout",
          "text": [
            "Numbers have been written to 'numbers.txt'.\n"
          ]
        }
      ]
    },
    {
      "cell_type": "markdown",
      "source": [
        "18.  How would you implement a basic logging setup that logs to a file with rotation after 1MB?"
      ],
      "metadata": {
        "id": "yspiurTyZYDy"
      }
    },
    {
      "cell_type": "code",
      "source": [
        "import logging\n",
        "from logging.handlers import RotatingFileHandler\n",
        "\n",
        "# Set up logging\n",
        "log_filename = 'app.log'\n",
        "log_handler = RotatingFileHandler(log_filename, maxBytes=1_000_000, backupCount=3)  # 1MB max file size and 3 backup files\n",
        "log_handler.setLevel(logging.DEBUG)  # Set logging level to DEBUG for detailed logs\n",
        "\n",
        "# Define log format\n",
        "log_formatter = logging.Formatter('%(asctime)s - %(name)s - %(levelname)s - %(message)s')\n",
        "log_handler.setFormatter(log_formatter)\n",
        "\n",
        "# Add the handler to the root logger\n",
        "logger = logging.getLogger()\n",
        "logger.setLevel(logging.DEBUG)  # Set root logger level to DEBUG\n",
        "logger.addHandler(log_handler)\n",
        "\n",
        "# Example logging\n",
        "logger.debug(\"This is a debug message.\")\n",
        "logger.info(\"This is an info message.\")\n",
        "logger.warning(\"This is a warning message.\")\n",
        "logger.error(\"This is an error message.\")\n",
        "logger.critical(\"This is a critical message.\")\n"
      ],
      "metadata": {
        "colab": {
          "base_uri": "https://localhost:8080/"
        },
        "id": "rQ6RiZj5ZicH",
        "outputId": "2616c295-e7e9-46d5-e462-bc7fe4edc73a"
      },
      "execution_count": 40,
      "outputs": [
        {
          "output_type": "stream",
          "name": "stderr",
          "text": [
            "DEBUG:root:This is a debug message.\n",
            "INFO:root:This is an info message.\n",
            "WARNING:root:This is a warning message.\n",
            "ERROR:root:This is an error message.\n",
            "CRITICAL:root:This is a critical message.\n"
          ]
        }
      ]
    },
    {
      "cell_type": "markdown",
      "source": [
        "19. Write a program that handles both IndexError and KeyError using a try-except block."
      ],
      "metadata": {
        "id": "Ni4YvURHZmFB"
      }
    },
    {
      "cell_type": "code",
      "source": [
        "def handle_errors():\n",
        "    # Example list and dictionary\n",
        "    my_list = [1, 2, 3]\n",
        "    my_dict = {'a': 1, 'b': 2}\n",
        "\n",
        "    try:\n",
        "        # Trying to access an invalid index in the list\n",
        "        print(my_list[5])\n",
        "\n",
        "        # Trying to access a non-existent key in the dictionary\n",
        "        print(my_dict['c'])\n",
        "\n",
        "    except IndexError as ie:\n",
        "        print(\"IndexError caught: Index is out of range!\")\n",
        "\n",
        "    except KeyError as ke:\n",
        "        print(\"KeyError caught: Key does not exist!\")\n",
        "\n",
        "    except Exception as e:\n",
        "        print(f\"An unexpected error occurred: {e}\")\n",
        "\n",
        "# Call the function\n",
        "handle_errors()\n"
      ],
      "metadata": {
        "colab": {
          "base_uri": "https://localhost:8080/"
        },
        "id": "skiB94MPZV3R",
        "outputId": "239ea3c9-df8f-4101-e311-f5a5047f1a18"
      },
      "execution_count": 41,
      "outputs": [
        {
          "output_type": "stream",
          "name": "stdout",
          "text": [
            "IndexError caught: Index is out of range!\n"
          ]
        }
      ]
    },
    {
      "cell_type": "markdown",
      "source": [
        "20. How would you open a file and read its contents using a context manager in Python?\n",
        "\n",
        "\n",
        "\n",
        "    To open a file and read its contents using a context manager in Python, you can use the with statement.\n",
        "    \n",
        "    This ensures that the file is properly closed after the block of code is executed, even if an error occurs during the reading process. Here's an example:"
      ],
      "metadata": {
        "id": "qWZ5tbZsZwcP"
      }
    },
    {
      "cell_type": "code",
      "source": [
        "with open('file.txt', 'r') as file:\n",
        "    contents = file.read()\n",
        "    print(contents)\n"
      ],
      "metadata": {
        "id": "qRULdCC1ZuqU"
      },
      "execution_count": null,
      "outputs": []
    },
    {
      "cell_type": "markdown",
      "source": [
        "21. Write a Python program that reads a file and prints the number of occurrences of a specific word."
      ],
      "metadata": {
        "id": "a8Ux8CVVaQ3f"
      }
    },
    {
      "cell_type": "code",
      "source": [
        "# Function to count occurrences of a word in a file\n",
        "def count_word_in_file(filename, word):\n",
        "    try:\n",
        "        with open(filename, 'r') as file:\n",
        "            # Read the file content\n",
        "            content = file.read()\n",
        "\n",
        "            # Count the occurrences of the word\n",
        "            word_count = content.lower().split().count(word.lower())  # case-insensitive search\n",
        "\n",
        "            print(f\"The word '{word}' appears {word_count} times in the file.\")\n",
        "    except FileNotFoundError:\n",
        "        print(f\"The file '{filename}' was not found.\")\n",
        "\n",
        "# Example usage\n",
        "filename = input(\"Enter the filename: \")\n",
        "word = input(\"Enter the word to search for: \")\n",
        "\n",
        "count_word_in_file(filename, word)\n"
      ],
      "metadata": {
        "colab": {
          "base_uri": "https://localhost:8080/"
        },
        "id": "G-unZ67Bab-m",
        "outputId": "c9ce026f-f2c2-475b-9cc9-4ab54e021d6a"
      },
      "execution_count": 44,
      "outputs": [
        {
          "output_type": "stream",
          "name": "stdout",
          "text": [
            "Enter the filename: non_existent_file.txt\n",
            "Enter the word to search for: python\n",
            "The file 'non_existent_file.txt' was not found.\n"
          ]
        }
      ]
    },
    {
      "cell_type": "code",
      "source": [],
      "metadata": {
        "id": "59C6WC5Hacwn"
      },
      "execution_count": null,
      "outputs": []
    },
    {
      "cell_type": "markdown",
      "source": [
        "22. How can you check if a file is empty before attempting to read its content?\n",
        "\n",
        "\n",
        "    To check if a file is empty before attempting to read its content in Python, you can do the following:\n",
        "\n",
        "A. Using os.stat():\n",
        "\n",
        "    The os.stat() function provides file metadata, including the file size. If the file size is 0, it's empty."
      ],
      "metadata": {
        "id": "D6VVyQqRax0q"
      }
    },
    {
      "cell_type": "code",
      "source": [
        "import os\n",
        "\n",
        "file_path = 'your_file.txt'\n",
        "\n",
        "if os.stat(file_path).st_size == 0:\n",
        "    print(\"The file is empty.\")\n",
        "else:\n",
        "    with open(file_path, 'r') as file:\n",
        "        content = file.read()\n",
        "        print(content)\n"
      ],
      "metadata": {
        "id": "io7Uf0rfbLBQ"
      },
      "execution_count": null,
      "outputs": []
    },
    {
      "cell_type": "markdown",
      "source": [
        "B.   Using os.path.getsize():\n",
        "\n",
        "    This method is similar but a bit more straightforward."
      ],
      "metadata": {
        "id": "seNTTNRNbNnT"
      }
    },
    {
      "cell_type": "code",
      "source": [
        "import os\n",
        "\n",
        "file_path = 'your_file.txt'\n",
        "\n",
        "if os.path.getsize(file_path) == 0:\n",
        "    print(\"The file is empty.\")\n",
        "else:\n",
        "    with open(file_path, 'r') as file:\n",
        "        content = file.read()\n",
        "        print(content)\n"
      ],
      "metadata": {
        "id": "4rIt_9Tbbw9P"
      },
      "execution_count": null,
      "outputs": []
    },
    {
      "cell_type": "markdown",
      "source": [
        "C.  Using try-except with open():\n",
        "\n",
        "    If you want to safely open the file and handle the case where it's empty, you can simply try to read and check for an empty result."
      ],
      "metadata": {
        "id": "QMpp5_NXb0iX"
      }
    },
    {
      "cell_type": "code",
      "source": [
        "file_path = 'your_file.txt'\n",
        "\n",
        "try:\n",
        "    with open(file_path, 'r') as file:\n",
        "        content = file.read()\n",
        "        if content:\n",
        "            print(content)\n",
        "        else:\n",
        "            print(\"The file is empty.\")\n",
        "except FileNotFoundError:\n",
        "    print(\"The file does not exist.\")\n"
      ],
      "metadata": {
        "colab": {
          "base_uri": "https://localhost:8080/"
        },
        "id": "SKZ7uOyrb-go",
        "outputId": "6eb05e39-1fe1-4fe0-f115-62f52f2a9c5c"
      },
      "execution_count": 46,
      "outputs": [
        {
          "output_type": "stream",
          "name": "stdout",
          "text": [
            "The file does not exist.\n"
          ]
        }
      ]
    },
    {
      "cell_type": "code",
      "source": [],
      "metadata": {
        "id": "q1Lad5z0cBgS"
      },
      "execution_count": null,
      "outputs": []
    },
    {
      "cell_type": "markdown",
      "source": [
        "24. Write a Python program that writes to a log file when an error occurs during file handling."
      ],
      "metadata": {
        "id": "dhC2CT1QcJsZ"
      }
    },
    {
      "cell_type": "code",
      "source": [
        "import logging\n",
        "\n",
        "# Configure the logger\n",
        "logging.basicConfig(\n",
        "    filename='error_log.txt',  # Log file name\n",
        "    level=logging.ERROR,       # Set the logging level to ERROR\n",
        "    format='%(asctime)s - %(levelname)s - %(message)s',  # Log format\n",
        ")\n",
        "\n",
        "def read_file(file_path):\n",
        "    try:\n",
        "        with open(file_path, 'r') as file:\n",
        "            content = file.read()\n",
        "            return content\n",
        "    except FileNotFoundError:\n",
        "        logging.error(f\"File not found: {file_path}\")\n",
        "        return None\n",
        "    except PermissionError:\n",
        "        logging.error(f\"Permission denied: {file_path}\")\n",
        "        return None\n",
        "    except Exception as e:\n",
        "        logging.error(f\"An unexpected error occurred while reading the file {file_path}: {str(e)}\")\n",
        "        return None\n",
        "\n",
        "def write_file(file_path, content):\n",
        "    try:\n",
        "        with open(file_path, 'w') as file:\n",
        "            file.write(content)\n",
        "    except PermissionError:\n",
        "        logging.error(f\"Permission denied: {file_path}\")\n",
        "    except Exception as e:\n",
        "        logging.error(f\"An unexpected error occurred while writing to the file {file_path}: {str(e)}\")\n",
        "\n",
        "# Example usage\n",
        "if __name__ == \"__main__\":\n",
        "    file_path = 'test.txt'\n",
        "\n",
        "    # Try reading a file\n",
        "    file_content = read_file(file_path)\n",
        "    if file_content:\n",
        "        print(file_content)\n",
        "\n",
        "    # Try writing to a file\n",
        "    new_content = \"This is a test.\"\n",
        "    write_file('output.txt', new_content)\n"
      ],
      "metadata": {
        "colab": {
          "base_uri": "https://localhost:8080/"
        },
        "id": "D_Gb3koycRAU",
        "outputId": "0b36d5e3-dffd-4065-d4f3-f46e0f14ce97"
      },
      "execution_count": 47,
      "outputs": [
        {
          "output_type": "stream",
          "name": "stderr",
          "text": [
            "ERROR:root:File not found: test.txt\n"
          ]
        }
      ]
    },
    {
      "cell_type": "code",
      "source": [],
      "metadata": {
        "id": "Nmt3-51UcRqV"
      },
      "execution_count": null,
      "outputs": []
    }
  ]
}